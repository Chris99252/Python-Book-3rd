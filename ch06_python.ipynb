{
 "nbformat": 4,
 "nbformat_minor": 2,
 "metadata": {
  "language_info": {
   "name": "python",
   "codemirror_mode": {
    "name": "ipython",
    "version": 3
   },
   "version": "3.7.3-final"
  },
  "orig_nbformat": 2,
  "file_extension": ".py",
  "mimetype": "text/x-python",
  "name": "python",
  "npconvert_exporter": "python",
  "pygments_lexer": "ipython3",
  "version": 3,
  "kernelspec": {
   "name": "python3",
   "display_name": "Python 3"
  }
 },
 "cells": [
  {
   "cell_type": "code",
   "execution_count": 3,
   "metadata": {},
   "outputs": [
    {
     "output_type": "stream",
     "name": "stdout",
     "text": "H\no\nello\n"
    }
   ],
   "source": [
    "# 字串為字元序列\n",
    "\n",
    "x = \"Hello\"\n",
    "print(x[0])\n",
    "print(x[-1])\n",
    "print(x[1:])"
   ]
  },
  {
   "cell_type": "code",
   "execution_count": 6,
   "metadata": {},
   "outputs": [
    {
     "output_type": "stream",
     "name": "stdout",
     "text": "Goodbye\n"
    }
   ],
   "source": [
    "x = \"Goodbye\\n\"\n",
    "x = x[:-1] # 全新的字串\n",
    "print(x)"
   ]
  },
  {
   "cell_type": "code",
   "execution_count": 7,
   "metadata": {},
   "outputs": [
    {
     "output_type": "stream",
     "name": "stdout",
     "text": "Hello World\n"
    }
   ],
   "source": [
    "x = \"Hello \" + \"World\"\n",
    "print(x)"
   ]
  },
  {
   "cell_type": "code",
   "execution_count": 8,
   "metadata": {},
   "outputs": [
    {
     "output_type": "stream",
     "name": "stdout",
     "text": "Hello World\n"
    }
   ],
   "source": [
    "# 空白相隔的字串會連載一起\n",
    "\n",
    "x = \"Hello \" \"World\"\n",
    "print(x)"
   ]
  },
  {
   "cell_type": "code",
   "execution_count": 9,
   "metadata": {},
   "outputs": [
    {
     "output_type": "stream",
     "name": "stdout",
     "text": "xxxxxxxx\n"
    }
   ],
   "source": [
    "print(8 * \"x\")"
   ]
  },
  {
   "cell_type": "code",
   "execution_count": null,
   "metadata": {},
   "outputs": [],
   "source": [
    "# 轉義字元\n",
    "\n",
    "# \\' 單引號 (')\n",
    "\n",
    "# \\\"\" 雙引號 (\"\")\n",
    "\n",
    "# \\\\ 反斜線 (\\)\n",
    "\n",
    "# \\a 發出嗶聲 (Bell)\n",
    "\n",
    "# \\b 倒退鍵 (Backspace)\n",
    "\n",
    "# \\f 換頁\n",
    "\n",
    "# \\n 換行\n",
    "\n",
    "# \\r 歸位符號 (Carriage Return)\n",
    "\n",
    "# \\t 定位符號 (Tab)\n",
    "\n",
    "# \\v 垂直定位符號 (Vertical Tab)"
   ]
  },
  {
   "cell_type": "code",
   "execution_count": 16,
   "metadata": {},
   "outputs": [
    {
     "output_type": "stream",
     "name": "stdout",
     "text": "m\nm\nm\nm\na\ná\ná\n"
    }
   ],
   "source": [
    "# 數值 (八進為與十六進位) Unicode\n",
    "print(\"m\")\n",
    "print(\"\\155\") # 八進位\n",
    "print(\"\\x6D\") # 十六進位\n",
    "print(\"\\x6d\")\n",
    "print(\"\\N{LATIN SMALL LETTER A}\") # Unicode ASCII字元\n",
    "print(\"\\N{LATIN SMALL LETTER A WITH ACUTE}\") # Unicode ASCII字元\n",
    "print(\"\\u00E1\") # Unicode \\u跟4碼十六進位"
   ]
  },
  {
   "cell_type": "code",
   "execution_count": 20,
   "metadata": {},
   "outputs": [
    {
     "output_type": "stream",
     "name": "stdout",
     "text": "a\n\tb\nabc\n\nabc\n"
    }
   ],
   "source": [
    "print(\"a\\n\\tb\")\n",
    "print(\"abc\\n\") # print 自動會在字尾添加換行\n",
    "print(\"abc\\n\", end=\"\") # 不附加換行"
   ]
  },
  {
   "cell_type": "code",
   "execution_count": 28,
   "metadata": {},
   "outputs": [
    {
     "output_type": "stream",
     "name": "stdout",
     "text": "join puts spaces between elements\nSeparated::with::colons\n"
    }
   ],
   "source": [
    "# 用 split() 和 join() 切割與連接字串\n",
    "x = \" \".join([\"join\", \"puts\", \"spaces\", \"between\", \"elements\"])\n",
    "print(x)\n",
    "y = \"::\".join([\"Separated\", \"with\", \"colons\"])\n",
    "print(y)"
   ]
  },
  {
   "cell_type": "code",
   "execution_count": 32,
   "metadata": {},
   "outputs": [
    {
     "output_type": "stream",
     "name": "stdout",
     "text": "['You', 'can', 'have', 'tabs', 'and', 'newlines', 'mixed', 'in']\n['Mi', 'i', 'ippi']\n"
    }
   ],
   "source": [
    "x = \"You\\t\\t can have tabs\\t\\n \\t and newlines \\n\\n mixed in\"\n",
    "print(x.split())\n",
    "x = \"Mississippi\"\n",
    "print(x.split(\"ss\"))"
   ]
  },
  {
   "cell_type": "code",
   "execution_count": 34,
   "metadata": {},
   "outputs": [
    {
     "output_type": "stream",
     "name": "stdout",
     "text": "['a', 'b c d']\n['a', 'b', 'c d']\n['a', 'b', 'c', 'd']\n"
    }
   ],
   "source": [
    "x = \"a b c d\"\n",
    "print(x.split(\" \", 1))\n",
    "print(x.split(\" \", 2))\n",
    "print(x.split(\" \", 9))"
   ]
  },
  {
   "cell_type": "code",
   "execution_count": 36,
   "metadata": {},
   "outputs": [
    {
     "output_type": "execute_result",
     "data": {
      "text/plain": "['a', 'b', 'c d']"
     },
     "metadata": {},
     "execution_count": 36
    }
   ],
   "source": [
    "x = \"a\\nb c d\"\n",
    "x.split(None, 2)"
   ]
  },
  {
   "cell_type": "code",
   "execution_count": 5,
   "metadata": {},
   "outputs": [
    {
     "output_type": "stream",
     "name": "stdout",
     "text": "123.456\n333\n4096\n5\n255\n"
    }
   ],
   "source": [
    "# 用 int() 和 float() 函式將字串轉換為數字\n",
    "a = float(\"123.456\")\n",
    "print(a)\n",
    "# float('xxyy') 非數字字串無法轉型\n",
    "b = int(\"333\")\n",
    "print(b)\n",
    "# int('123.456') 字串的小數點無法轉型\n",
    "c = int(\"10000\", 8) # 用 8 進位基底來解釋成 10 進位整數\n",
    "print(c)\n",
    "d = int(\"101\", 2) # 用 2 進位基底來解釋成 10 進位整數\n",
    "print(d)\n",
    "e = int(\"ff\", 16) # 用 2 進位基底來解釋成 10 進位整數\n",
    "print(e)"
   ]
  },
  {
   "cell_type": "code",
   "execution_count": 22,
   "metadata": {},
   "outputs": [
    {
     "output_type": "stream",
     "name": "stdout",
     "text": "Hello, World\nHello, World\t\t\n Hello, World\n.python.org\nwww.python.\npython\nwww.python.org\n"
    }
   ],
   "source": [
    "# 用 strip() lstrip() rstrip() 移除多餘的空白\n",
    "\n",
    "x = \" Hello, World\\t\\t\"\n",
    "print(x.strip())\n",
    "print(x.lstrip())\n",
    "print(x.rstrip())\n",
    "\n",
    "# 頭尾移除指定的字元\n",
    "\n",
    "y = \"www.python.org\"\n",
    "print(y.strip(\"w\"))\n",
    "print(y.strip(\"gor\"))\n",
    "print(y.strip(\".gorw\"))"
   ]
  },
  {
   "cell_type": "code",
   "execution_count": 28,
   "metadata": {},
   "outputs": [
    {
     "output_type": "stream",
     "name": "stdout",
     "text": "True\nFalse\nFalse\nTrue\n"
    }
   ],
   "source": [
    "# isdigit() isalpha() islower() isupper()\n",
    "\n",
    "x = \"123\"\n",
    "print(x.isdigit()) # 字串是否由數字組成\n",
    "print(x.isalpha()) # 字串是否由英文字母組成\n",
    "\n",
    "y = \"MM\"\n",
    "print(y.islower()) # 字串是否全部小寫\n",
    "print(y.isupper()) # 字串是否全部大寫"
   ]
  },
  {
   "cell_type": "code",
   "execution_count": 31,
   "metadata": {},
   "outputs": [
    {
     "output_type": "stream",
     "name": "stdout",
     "text": "True\nFalse\nTrue\n"
    }
   ],
   "source": [
    "# 字串的搜尋\n",
    "# in 算符\n",
    "\n",
    "x = \"The string\"\n",
    "print(\"str\" in x)\n",
    "print(\"sTr\" in x)\n",
    "print(\"e s\" in x)"
   ]
  },
  {
   "cell_type": "code",
   "execution_count": 49,
   "metadata": {},
   "outputs": [
    {
     "output_type": "stream",
     "name": "stdout",
     "text": "1\n-1\n2\n2\n5\n5\n5\n-1\n5\n"
    }
   ],
   "source": [
    "# find() rfind()\n",
    "\n",
    "x = \"Mississippi\"\n",
    "print(x.find(\"is\")) # 回傳搜尋文字第一個字元所在的索引位置\n",
    "print(x.find(\"zz\")) # 找不到回傳 -1\n",
    "print(x.find(\"s\"))\n",
    "print(x.find(\"s\", 2)) # find(string, start, end) 指定從哪一個索引開始，哪一個索引之前結束\n",
    "print(x.find(\"s\", 4))\n",
    "print(x.find(\"s\", 5))\n",
    "print(x.find(\"ss\", 3))\n",
    "print(x.find(\"ss\", 0, 3))\n",
    "print(x.rfind(\"ss\")) # rfind() 與 find() 幾乎一樣，但它是從字串的結尾開始找\n",
    "\n",
    "# index() rindex() 與 find() rfind() 相同，但找不到不會回傳 -1 而是引發錯誤"
   ]
  },
  {
   "cell_type": "code",
   "execution_count": 51,
   "metadata": {},
   "outputs": [
    {
     "output_type": "stream",
     "name": "stdout",
     "text": "2\n"
    }
   ],
   "source": [
    "# count() 統計特定文字出現的次數\n",
    "\n",
    "x = \"Mississippi\"\n",
    "print(x.count(\"ss\"))"
   ]
  },
  {
   "cell_type": "code",
   "execution_count": 61,
   "metadata": {},
   "outputs": [
    {
     "output_type": "stream",
     "name": "stdout",
     "text": "True\nFalse\nTrue\nFalse\nTrue\n"
    }
   ],
   "source": [
    "# startswith() endswith() 搜尋字串是否以特定文字開頭或結尾\n",
    "\n",
    "x = \"Mississippi\"\n",
    "print(x.startswith(\"Miss\"))\n",
    "print(x.startswith(\"Mist\"))\n",
    "print(x.endswith(\"pi\"))\n",
    "print(x.endswith(\"p\"))\n",
    "print(x.endswith((\"i\", \"u\"))) # 可一次搜尋多筆文字，找到任何一筆文字就算 (tuple 型態傳入)"
   ]
  },
  {
   "cell_type": "code",
   "execution_count": 63,
   "metadata": {},
   "outputs": [
    {
     "output_type": "stream",
     "name": "stdout",
     "text": "Mi+++i+++ippi\n"
    }
   ],
   "source": [
    "# 字串的修改\n",
    "\n",
    "# replace()\n",
    "\n",
    "x = \"Mississippi\"\n",
    "y = x.replace(\"ss\", \"+++\")\n",
    "print(y)"
   ]
  },
  {
   "cell_type": "code",
   "execution_count": 67,
   "metadata": {},
   "outputs": [
    {
     "output_type": "stream",
     "name": "stdout",
     "text": "!x & [y % z]\n"
    }
   ],
   "source": [
    "# maketrans() translate() 可以將字串中的字元轉換為不同的字元\n",
    "\n",
    "x = \"~x ^ (y % z)\"\n",
    "table = x.maketrans(\"~^()\", \"!&[]\") # 轉換表，數量要一致\n",
    "print(x.translate(table))"
   ]
  },
  {
   "cell_type": "code",
   "execution_count": null,
   "metadata": {},
   "outputs": [],
   "source": [
    "# lower() 將字串中的所有字母轉換為小寫\n",
    "# upper() 將字串中的所有字母轉換為大寫\n",
    "# capitalize() 將字串的第一個字元改成大寫\n",
    "# title() 將字串中的所有單字的第一個字母都改為大寫\n",
    "# swapcase() 將字串中的所有大寫字母改為小寫，所有小寫字母改為大寫\n",
    "# expandtabs() 會以指定數目的空格替換字串中的定位符號\n",
    "# ljust() rjust() center() 用空格填充字串，以便向左，向右，及置中對齊某個欄位寬度\n",
    "# zfill() 會在數值字串的左邊補零以達到指定的長度"
   ]
  },
  {
   "cell_type": "code",
   "execution_count": 68,
   "metadata": {},
   "outputs": [
    {
     "output_type": "stream",
     "name": "stdout",
     "text": ",olleH\n"
    }
   ],
   "source": [
    "# 透過 list 來修改字串\n",
    "\n",
    "text = \"Hello, World\"\n",
    "wordList = list(text)\n",
    "wordList[6:] = [] # 移除逗點之後所有字元\n",
    "wordList.reverse() # 將字元順序反轉\n",
    "text = \"\".join(wordList) # 以無空格方式合併\n",
    "print(text)"
   ]
  },
  {
   "cell_type": "code",
   "execution_count": 69,
   "metadata": {},
   "outputs": [
    {
     "output_type": "stream",
     "name": "stdout",
     "text": "the list x is [1, 2, [3, 4]]\n"
    }
   ],
   "source": [
    "# repr() 和 str() 將物件轉換成字串表示，非常適合用來程式除錯\n",
    "x = [1]\n",
    "x.append(2)\n",
    "x.append([3, 4])\n",
    "print(\"the list x is \" + repr(x))"
   ]
  },
  {
   "cell_type": "code",
   "execution_count": 74,
   "metadata": {},
   "outputs": [
    {
     "output_type": "stream",
     "name": "stdout",
     "text": "2020-05-06 19:00:08.256249\n2020-05-06 19:00:08.256249\ndatetime.datetime(2020, 5, 6, 19, 0, 8, 256249)\n"
    }
   ],
   "source": [
    "from datetime import datetime\n",
    "now = datetime.now()\n",
    "print(str(now))\n",
    "print(now)\n",
    "print(repr(now))"
   ]
  },
  {
   "cell_type": "code",
   "execution_count": 84,
   "metadata": {},
   "outputs": [
    {
     "output_type": "stream",
     "name": "stdout",
     "text": "Ambrosia is the food of the gods\n1 + 2 = 3\nThe list contains: [1, 2, 'three']\nAmbrosia is the food of the gods\nabcdefabc\nAmbrosia is the food of the gods\nAmbrosia is the food of the gods\n"
    }
   ],
   "source": [
    "# 使用 format() method 來格式化字串\n",
    "a = \"{} is the {} of {}\".format(\"Ambrosia\", \"food\", \"the gods\")\n",
    "print(a)\n",
    "\n",
    "# 會自動幫你轉型成字串\n",
    "b = \"{} + {} = {}\".format(1, 2, 1 + 2)\n",
    "print(b)\n",
    "\n",
    "c = \"The {} contains: {}\".format(\"list\", [1, 2, \"three\"])\n",
    "print(c)\n",
    "\n",
    "# 使用編號參數\n",
    "d = \"{2} is the {0} of {1}\".format(\"food\", \"the gods\", \"Ambrosia\")\n",
    "print(d)\n",
    "\n",
    "e = \"{0}{1}{0}\".format(\"abc\", \"def\")\n",
    "print(e)\n",
    "\n",
    "# 使用指名參數\n",
    "f = \"{food} is the food of {user}\".format(food = \"Ambrosia\", user = \"the gods\")\n",
    "print(f)\n",
    "\n",
    "g = \"{0} is the food of {user[1]}\".format(\"Ambrosia\", user = [\"men\", \"the gods\", \"others\"])\n",
    "print(g)\n",
    "\n",
    "# 編號參數與指名參數同時使用時，編號參數一定要放在最前面"
   ]
  },
  {
   "cell_type": "code",
   "execution_count": 90,
   "metadata": {},
   "outputs": [
    {
     "output_type": "stream",
     "name": "stdout",
     "text": "Ambrosia   is the food of gods\n  Ambrosia is the food of gods\n&&Ambrosia is the food of gods\nAmbrosia   is the food of gods\nAmbrosia   is the food of gods\n"
    }
   ],
   "source": [
    "# 格式化設定\n",
    "\n",
    "a = \"{0:10} is the food of gods\".format(\"Ambrosia\") # 欄位預留 10 個空格\n",
    "print(a)\n",
    "\n",
    "b = \"{0:>10} is the food of gods\".format(\"Ambrosia\") # 欄位預留 10 個空格，強制欄位靠右對齊\n",
    "print(b)\n",
    "\n",
    "c = \"{0:&>10} is the food of gods\".format(\"Ambrosia\") # 預留 10 個空格，強制靠右對齊，& 填滿\n",
    "print(c)\n",
    "\n",
    "d = \"{0:{1}} is the food of gods\".format(\"Ambrosia\", 10)\n",
    "print(d)\n",
    "\n",
    "e = \"{food:{width}} is the food of gods\".format(food = \"Ambrosia\", width = 10)\n",
    "print(e)"
   ]
  },
  {
   "cell_type": "code",
   "execution_count": 93,
   "metadata": {},
   "outputs": [
    {
     "output_type": "stream",
     "name": "stdout",
     "text": "The answer is 42\npi is        3.1\n"
    }
   ],
   "source": [
    "# 以 f-string 來格式化字串 3.6 以上才能使用\n",
    "value = 42\n",
    "message = f\"The answer is {value}\"\n",
    "print(message)\n",
    "\n",
    "pi = 3.1415\n",
    "print(f\"pi is {pi:{10.{2}}\")"
   ]
  },
  {
   "cell_type": "code",
   "execution_count": 96,
   "metadata": {},
   "outputs": [
    {
     "output_type": "stream",
     "name": "stdout",
     "text": "中\nb'\\xe4\\xb8\\xad'\n中\n"
    }
   ],
   "source": [
    "# bytes 物件，適用於處理二進位資料，例讀取圖片、音樂等資料檔\n",
    "\n",
    "unicode_string = \"中\"\n",
    "print(unicode_string)\n",
    "\n",
    "xb = unicode_string.encode() # encode() 將字串轉為 bytes\n",
    "print(xb) # 大小變成 3 個 bytes\n",
    "\n",
    "s  = xb.decode() # decode() 將 bytes 轉為字串\n",
    "print(s)"
   ]
  },
  {
   "cell_type": "code",
   "execution_count": 97,
   "metadata": {},
   "outputs": [
    {
     "output_type": "stream",
     "name": "stdout",
     "text": "a\n1\na b c\na|b|c\na b c\n\n"
    }
   ],
   "source": [
    "# 使用 print() 控制字串輸出\n",
    "\n",
    "print(\"a\")\n",
    "print(1)\n",
    "print(\"a\", \"b\", \"c\")\n",
    "print(\"a\", \"b\", \"c\", sep = \"|\")\n",
    "print(\"a\", \"b\", \"c\", end = \"\\n\\n\")"
   ]
  },
  {
   "cell_type": "code",
   "execution_count": null,
   "metadata": {},
   "outputs": [],
   "source": [
    "# x = \"hello \" + \"world\" 字串連接\n",
    "# x = \"\"*20 字串複製\n",
    "# x.upper() 把字串轉成大寫\n",
    "# x.lower() 把字串轉成小寫\n",
    "# x.title() 字串中每一個單字的第一個字母轉成大寫\n",
    "# x.find(y) x.index(y) 從字串開頭開始搜尋\n",
    "# x.rfind(y) x.rindex(y) 從字串尾端開始搜尋\n",
    "# x.startswith(y) x.endswith(y) 檢查字串是否由特定文字開頭或結尾\n",
    "# x.replace(y, z) 以新字串取代舊字串\n",
    "# x.strip() x.rstrip() x.lstrip() 從字串開頭或尾端移除空格或其他字元\n",
    "# x.split(\",\") 切割字串\n",
    "# \" \".join([\"hello\", \"world\"]) 連接字串\n",
    "# int(x) float(x) 字串轉換為整數或浮點數\n",
    "# x.count(\"ss\") 統計特定文字在字串中出現次數\n",
    "# x.isdigit() x.isalpha() 判斷字串是否由數字、或英文字母組成\n",
    "# x.isupper() x.islower 判斷字串是否全部大寫或小寫\n",
    "# \"{} + {} = {}\".format(1, 2, 1 + 2) 格式化字串\n",
    "# x.encode(\"utf-8\") 把 Unicode 轉為 bytes 物件"
   ]
  }
 ]
}