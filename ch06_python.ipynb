{
 "nbformat": 4,
 "nbformat_minor": 2,
 "metadata": {
  "language_info": {
   "name": "python",
   "codemirror_mode": {
    "name": "ipython",
    "version": 3
   },
   "version": "3.7.3-final"
  },
  "orig_nbformat": 2,
  "file_extension": ".py",
  "mimetype": "text/x-python",
  "name": "python",
  "npconvert_exporter": "python",
  "pygments_lexer": "ipython3",
  "version": 3,
  "kernelspec": {
   "name": "python3",
   "display_name": "Python 3"
  }
 },
 "cells": [
  {
   "cell_type": "code",
   "execution_count": 3,
   "metadata": {},
   "outputs": [
    {
     "output_type": "stream",
     "name": "stdout",
     "text": "H\no\nello\n"
    }
   ],
   "source": [
    "# 字串為字元序列\n",
    "\n",
    "x = \"Hello\"\n",
    "print(x[0])\n",
    "print(x[-1])\n",
    "print(x[1:])"
   ]
  },
  {
   "cell_type": "code",
   "execution_count": 6,
   "metadata": {},
   "outputs": [
    {
     "output_type": "stream",
     "name": "stdout",
     "text": "Goodbye\n"
    }
   ],
   "source": [
    "x = \"Goodbye\\n\"\n",
    "x = x[:-1] # 全新的字串\n",
    "print(x)"
   ]
  },
  {
   "cell_type": "code",
   "execution_count": 7,
   "metadata": {},
   "outputs": [
    {
     "output_type": "stream",
     "name": "stdout",
     "text": "Hello World\n"
    }
   ],
   "source": [
    "x = \"Hello \" + \"World\"\n",
    "print(x)"
   ]
  },
  {
   "cell_type": "code",
   "execution_count": 8,
   "metadata": {},
   "outputs": [
    {
     "output_type": "stream",
     "name": "stdout",
     "text": "Hello World\n"
    }
   ],
   "source": [
    "# 空白相隔的字串會連載一起\n",
    "\n",
    "x = \"Hello \" \"World\"\n",
    "print(x)"
   ]
  },
  {
   "cell_type": "code",
   "execution_count": 9,
   "metadata": {},
   "outputs": [
    {
     "output_type": "stream",
     "name": "stdout",
     "text": "xxxxxxxx\n"
    }
   ],
   "source": [
    "print(8 * \"x\")"
   ]
  },
  {
   "cell_type": "code",
   "execution_count": null,
   "metadata": {},
   "outputs": [],
   "source": [
    "# 轉義字元\n",
    "\n",
    "# \\' 單引號 (')\n",
    "\n",
    "# \\\"\" 雙引號 (\"\")\n",
    "\n",
    "# \\\\ 反斜線 (\\)\n",
    "\n",
    "# \\a 發出嗶聲 (Bell)\n",
    "\n",
    "# \\b 倒退鍵 (Backspace)\n",
    "\n",
    "# \\f 換頁\n",
    "\n",
    "# \\n 換行\n",
    "\n",
    "# \\r 歸位符號 (Carriage Return)\n",
    "\n",
    "# \\t 定位符號 (Tab)\n",
    "\n",
    "# \\v 垂直定位符號 (Vertical Tab)"
   ]
  },
  {
   "cell_type": "code",
   "execution_count": 16,
   "metadata": {},
   "outputs": [
    {
     "output_type": "stream",
     "name": "stdout",
     "text": "m\nm\nm\nm\na\ná\ná\n"
    }
   ],
   "source": [
    "# 數值 (八進為與十六進位) Unicode\n",
    "print(\"m\")\n",
    "print(\"\\155\") # 八進位\n",
    "print(\"\\x6D\") # 十六進位\n",
    "print(\"\\x6d\")\n",
    "print(\"\\N{LATIN SMALL LETTER A}\") # Unicode ASCII字元\n",
    "print(\"\\N{LATIN SMALL LETTER A WITH ACUTE}\") # Unicode ASCII字元\n",
    "print(\"\\u00E1\") # Unicode \\u跟4碼十六進位"
   ]
  },
  {
   "cell_type": "code",
   "execution_count": 20,
   "metadata": {},
   "outputs": [
    {
     "output_type": "stream",
     "name": "stdout",
     "text": "a\n\tb\nabc\n\nabc\n"
    }
   ],
   "source": [
    "print(\"a\\n\\tb\")\n",
    "print(\"abc\\n\") # print 自動會在字尾添加換行\n",
    "print(\"abc\\n\", end=\"\") # 不附加換行"
   ]
  },
  {
   "cell_type": "code",
   "execution_count": 28,
   "metadata": {},
   "outputs": [
    {
     "output_type": "stream",
     "name": "stdout",
     "text": "join puts spaces between elements\nSeparated::with::colons\n"
    }
   ],
   "source": [
    "# 用 split() 和 join() 切割與連接字串\n",
    "x = \" \".join([\"join\", \"puts\", \"spaces\", \"between\", \"elements\"])\n",
    "print(x)\n",
    "y = \"::\".join([\"Separated\", \"with\", \"colons\"])\n",
    "print(y)"
   ]
  },
  {
   "cell_type": "code",
   "execution_count": 32,
   "metadata": {},
   "outputs": [
    {
     "output_type": "stream",
     "name": "stdout",
     "text": "['You', 'can', 'have', 'tabs', 'and', 'newlines', 'mixed', 'in']\n['Mi', 'i', 'ippi']\n"
    }
   ],
   "source": [
    "x = \"You\\t\\t can have tabs\\t\\n \\t and newlines \\n\\n mixed in\"\n",
    "print(x.split())\n",
    "x = \"Mississippi\"\n",
    "print(x.split(\"ss\"))"
   ]
  },
  {
   "cell_type": "code",
   "execution_count": 34,
   "metadata": {},
   "outputs": [
    {
     "output_type": "stream",
     "name": "stdout",
     "text": "['a', 'b c d']\n['a', 'b', 'c d']\n['a', 'b', 'c', 'd']\n"
    }
   ],
   "source": [
    "x = \"a b c d\"\n",
    "print(x.split(\" \", 1))\n",
    "print(x.split(\" \", 2))\n",
    "print(x.split(\" \", 9))"
   ]
  },
  {
   "cell_type": "code",
   "execution_count": 36,
   "metadata": {},
   "outputs": [
    {
     "output_type": "execute_result",
     "data": {
      "text/plain": "['a', 'b', 'c d']"
     },
     "metadata": {},
     "execution_count": 36
    }
   ],
   "source": [
    "x = \"a\\nb c d\"\n",
    "x.split(None, 2)"
   ]
  },
  {
   "cell_type": "code",
   "execution_count": null,
   "metadata": {},
   "outputs": [],
   "source": []
  }
 ]
}