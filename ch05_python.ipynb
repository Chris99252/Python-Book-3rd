{
 "nbformat": 4,
 "nbformat_minor": 2,
 "metadata": {
  "language_info": {
   "name": "python",
   "codemirror_mode": {
    "name": "ipython",
    "version": 3
   },
   "version": "3.7.3-final"
  },
  "orig_nbformat": 2,
  "file_extension": ".py",
  "mimetype": "text/x-python",
  "name": "python",
  "npconvert_exporter": "python",
  "pygments_lexer": "ipython3",
  "version": 3,
  "kernelspec": {
   "name": "python3",
   "display_name": "Python 3"
  }
 },
 "cells": [
  {
   "cell_type": "code",
   "execution_count": 8,
   "metadata": {},
   "outputs": [
    {
     "output_type": "stream",
     "name": "stdout",
     "text": "[1, 2, 3]\n"
    }
   ],
   "source": [
    "# 基本資料結構: list 串列, tuple 元組, set 集合\n",
    "\n",
    "# 建立3個元素的 list，並且命名為 x\n",
    "x = [1, 2, 3]\n",
    "print(x)"
   ]
  },
  {
   "cell_type": "code",
   "execution_count": 15,
   "metadata": {},
   "outputs": [
    {
     "output_type": "stream",
     "name": "stdout",
     "text": "[2, 'two', [1, 2, 3]]\n3\n1\n0\n2\n"
    }
   ],
   "source": [
    "# 建立 list 包含數字，字串，和另一個list\n",
    "x = [2, \"two\", [1, 2, 3]]\n",
    "print(x)\n",
    "\n",
    "# len() 取得 list 元素的個數，只計算第一層的元素\n",
    "print(len(x))\n",
    "print(len([0]))\n",
    "print(len([]))\n",
    "print(len([[1, 3, [4, 5], 6], 7]))"
   ]
  },
  {
   "cell_type": "code",
   "execution_count": 32,
   "metadata": {},
   "outputs": [
    {
     "output_type": "stream",
     "name": "stdout",
     "text": "first\nthird\nfourth\nthird\n['first', 'second', 'third']\n['second', 'third']\n['second', 'third']\n['third']\n[]\n['first', 'second', 'third']\n['third', 'fourth']\n['first', 'second', 'third', 'fourth']\n['1 st', 'second', 'third', 'fourth']\n['first', 'second', 'third', 'fourth']\n['1 st', 'second', 'third', 'fourth']\n['1 st', 'second', 'third', 'fourth']\n[2, 3, 4]\n"
    }
   ],
   "source": [
    "# list 的索引 (index) 從 0 開始計數\n",
    "x = [\"first\", \"second\", \"third\", \"fourth\"]\n",
    "print(x[0])\n",
    "print(x[2])\n",
    "\n",
    "# 索引如果是負數，從尾端開始計數\n",
    "print(x[-1])\n",
    "print(x[-2])\n",
    "\n",
    "# list 的切片 (slicing) 提取多個元素 index1:index2 (不含index2)\n",
    "print(x[0:3])\n",
    "print(x[1:3])\n",
    "print(x[1:-1])\n",
    "print(x[-2:-1])\n",
    "# 第四個 到 第三個，index2 在 index1 之前，回傳空 list\n",
    "print(x[-1:2])\n",
    "# 不寫 index1 表示從頭開始\n",
    "print(x[:3])\n",
    "# 不寫 index2 表示切到最後\n",
    "print(x[2:])\n",
    "\n",
    "# index1 與 index2 都不寫，複製 list\n",
    "y = x[:] # 此處不次參照，是複製\n",
    "y[0] = \"1 st\"\n",
    "print(x)\n",
    "print(y)\n",
    "y = x # 重新參照，x 與 y 都指向 \n",
    "print(y)\n",
    "y[0] = \"1 st\"\n",
    "print(x)\n",
    "print(y)\n",
    "\n",
    "# [m:n] 有頭無尾，假設你要從 索引2 開始切出 3個元素 [2:2+3] => [2:5]\n",
    "x = [0, 1, 2, 3, 4, 5]\n",
    "start = 2\n",
    "length = 3\n",
    "print(x[start:start+length])"
   ]
  },
  {
   "cell_type": "code",
   "execution_count": 36,
   "metadata": {},
   "outputs": [
    {
     "output_type": "stream",
     "name": "stdout",
     "text": "[1, 'two', 3, 4]\n[0, 'one', 'two', 3]\n[0, 'one', 'two', 'three', 3]\n['a', 'b', 3]\n"
    }
   ],
   "source": [
    "# 更改 list 的元素\n",
    "x = [1, 2, 3, 4]\n",
    "x[1] = \"two\"\n",
    "print(x)\n",
    "y = [0, 1, 2, 3]\n",
    "y[1:3] = [\"one\", \"two\"]\n",
    "print(y)\n",
    "# 替換元素，長度可以不一樣\n",
    "z = [0, 1, 2, 3]\n",
    "z[1:3] = [\"one\", \"two\", \"three\"]\n",
    "print(z)\n",
    "z[0:4] = [\"a\", \"b\"]\n",
    "print(z)"
   ]
  },
  {
   "cell_type": "code",
   "execution_count": 39,
   "metadata": {},
   "outputs": [
    {
     "output_type": "stream",
     "name": "stdout",
     "text": "[1, 2, 3, 4, 5, 6, 7]\n[-1, 0, 1, 2, 3, 4, 5, 6, 7]\n[-1, 7]\n"
    }
   ],
   "source": [
    "# 附加在最後 插入到最前面 移除多個元素(只留頭尾)\n",
    "x = [1, 2, 3, 4]\n",
    "x[len(x):] = [5, 6, 7]\n",
    "print(x)\n",
    "x[:0] = [-1, 0]\n",
    "print(x)\n",
    "x[1:-1] = []\n",
    "print(x)"
   ]
  },
  {
   "cell_type": "code",
   "execution_count": 40,
   "metadata": {},
   "outputs": [
    {
     "output_type": "stream",
     "name": "stdout",
     "text": "[1, 2, 3, 'four']\n"
    }
   ],
   "source": [
    "# append() 單一元素\n",
    "x = [1, 2, 3]\n",
    "x.append(\"four\")\n",
    "print(x)"
   ]
  },
  {
   "cell_type": "code",
   "execution_count": 41,
   "metadata": {},
   "outputs": [
    {
     "output_type": "stream",
     "name": "stdout",
     "text": "[1, 2, 3, 4, [5, 6, 7]]\n"
    }
   ],
   "source": [
    "# append() list\n",
    "x = [1, 2, 3, 4]\n",
    "y = [5, 6, 7]\n",
    "x.append(y)\n",
    "print(x)"
   ]
  },
  {
   "cell_type": "code",
   "execution_count": 42,
   "metadata": {},
   "outputs": [
    {
     "output_type": "stream",
     "name": "stdout",
     "text": "[1, 2, 3, 4, 5, 6, 7]\n"
    }
   ],
   "source": [
    "# extend() list 內的元素，附加到最後\n",
    "x = [1, 2, 3, 4]\n",
    "y = [5, 6, 7]\n",
    "x.extend(y)\n",
    "print(x)"
   ]
  },
  {
   "cell_type": "code",
   "execution_count": 46,
   "metadata": {},
   "outputs": [
    {
     "output_type": "stream",
     "name": "stdout",
     "text": "[1, 2, 'hello', 3]\n['start', 1, 2, 'hello', 3]\n['start', 1, 2, 'hello', 'world', 3]\n"
    }
   ],
   "source": [
    "# insert(n, 新元素) 利用 index 插入元素 : 在第n個元素之後插入新元素\n",
    "x = [1, 2, 3]\n",
    "x.insert(2, \"hello\")\n",
    "print(x)\n",
    "x.insert(0, \"start\")\n",
    "print(x)\n",
    "x.insert(-1, \"world\")\n",
    "print(x)"
   ]
  },
  {
   "cell_type": "code",
   "execution_count": 62,
   "metadata": {},
   "outputs": [
    {
     "output_type": "stream",
     "name": "stdout",
     "text": "[1, 2, 4, 3, 5]\n[1, 2, 4, 5]\n沒有3了\n"
    }
   ],
   "source": [
    "# remove() 找到第一個內容跟指定值相同的元素 刪除\n",
    "x = [1, 2, 3, 4, 3 , 5]\n",
    "x.remove(3)\n",
    "print(x)\n",
    "x.remove(3)\n",
    "print(x)\n",
    "if (3 in x) :\n",
    "    x.remove(3) # 若找不到指定的元素，會報錯\n",
    "else :\n",
    "    print(\"沒有3了\")"
   ]
  },
  {
   "cell_type": "code",
   "execution_count": 63,
   "metadata": {},
   "outputs": [
    {
     "output_type": "stream",
     "name": "stdout",
     "text": "[7, 6, 5, 3, 1]\n"
    }
   ],
   "source": [
    "# reverse() 順序反轉\n",
    "x = [1, 3, 5, 6, 7]\n",
    "x.reverse()\n",
    "print(x)"
   ]
  },
  {
   "cell_type": "code",
   "execution_count": 69,
   "metadata": {},
   "outputs": [
    {
     "output_type": "stream",
     "name": "stdout",
     "text": "[0, 1, 2, 3, 4, 8]\n"
    }
   ],
   "source": [
    "# list 的排序 sort() 會改變內容 (原地排序)\n",
    "x = [3, 8, 4, 0, 2, 1]\n",
    "x.sort()\n",
    "print(x)"
   ]
  },
  {
   "cell_type": "code",
   "execution_count": 70,
   "metadata": {},
   "outputs": [
    {
     "output_type": "stream",
     "name": "stdout",
     "text": "['Enchanting', 'Life', 'is']\n"
    }
   ],
   "source": [
    "# 字串排序\n",
    "x = [\"Life\", \"is\", \"Enchanting\"]\n",
    "x.sort()\n",
    "print(x)"
   ]
  },
  {
   "cell_type": "code",
   "execution_count": 71,
   "metadata": {},
   "outputs": [
    {
     "output_type": "error",
     "ename": "TypeError",
     "evalue": "'<' not supported between instances of 'str' and 'int'",
     "traceback": [
      "\u001b[1;31m---------------------------------------------------------------------------\u001b[0m",
      "\u001b[1;31mTypeError\u001b[0m                                 Traceback (most recent call last)",
      "\u001b[1;32m<ipython-input-71-b2c7809da22b>\u001b[0m in \u001b[0;36m<module>\u001b[1;34m\u001b[0m\n\u001b[0;32m      1\u001b[0m \u001b[1;31m# 不同型別不可以比較\u001b[0m\u001b[1;33m\u001b[0m\u001b[1;33m\u001b[0m\u001b[1;33m\u001b[0m\u001b[0m\n\u001b[0;32m      2\u001b[0m \u001b[0mx\u001b[0m \u001b[1;33m=\u001b[0m \u001b[1;33m[\u001b[0m\u001b[1;36m1\u001b[0m\u001b[1;33m,\u001b[0m \u001b[1;36m2\u001b[0m\u001b[1;33m,\u001b[0m \u001b[1;34m\"hello\"\u001b[0m\u001b[1;33m,\u001b[0m \u001b[1;36m3\u001b[0m\u001b[1;33m]\u001b[0m\u001b[1;33m\u001b[0m\u001b[1;33m\u001b[0m\u001b[0m\n\u001b[1;32m----> 3\u001b[1;33m \u001b[0mx\u001b[0m\u001b[1;33m.\u001b[0m\u001b[0msort\u001b[0m\u001b[1;33m(\u001b[0m\u001b[1;33m)\u001b[0m\u001b[1;33m\u001b[0m\u001b[1;33m\u001b[0m\u001b[0m\n\u001b[0m",
      "\u001b[1;31mTypeError\u001b[0m: '<' not supported between instances of 'str' and 'int'"
     ]
    }
   ],
   "source": [
    "# 不同型別不可以排序\n",
    "x = [1, 2, \"hello\", 3]\n",
    "x.sort()"
   ]
  },
  {
   "cell_type": "code",
   "execution_count": 73,
   "metadata": {},
   "outputs": [
    {
     "output_type": "stream",
     "name": "stdout",
     "text": "[[2, 3], [2, 9], [3, 2], [3, 5], [4, 1]]\n"
    }
   ],
   "source": [
    "# list 的排序 第一個元素先排，在排第二個\n",
    "x = [[3, 5], [2, 9], [2, 3], [4, 1], [3, 2]]\n",
    "x.sort()\n",
    "print(x)"
   ]
  },
  {
   "cell_type": "code",
   "execution_count": 75,
   "metadata": {},
   "outputs": [
    {
     "output_type": "stream",
     "name": "stdout",
     "text": "[3, 2, 1]\n"
    }
   ],
   "source": [
    "# sort() 預設為遞增排序，可以利用 reverse 以遞減排序\n",
    "x = [1, 2, 3]\n",
    "x.sort(reverse=True)\n",
    "print(x)"
   ]
  },
  {
   "cell_type": "code",
   "execution_count": 77,
   "metadata": {},
   "outputs": [
    {
     "output_type": "stream",
     "name": "stdout",
     "text": "['C', 'Python', 'better', 'is', 'than']\n['C', 'is', 'than', 'Python', 'better']\n"
    }
   ],
   "source": [
    "# 自訂義排序\n",
    "def compare_num_of_chars(string1) :\n",
    "    return len(string1)\n",
    "\n",
    "word_list = [\"Python\", \"is\", \"better\", \"than\", \"C\"]\n",
    "word_list.sort() # 大小寫分開排，依照字母順序排序\n",
    "print(word_list)\n",
    "word_list_cust = [\"Python\", \"is\", \"better\", \"than\", \"C\"]\n",
    "word_list_cust.sort(key=compare_num_of_chars) # 字串長度排序\n",
    "print(word_list_cust)"
   ]
  },
  {
   "cell_type": "code",
   "execution_count": 80,
   "metadata": {},
   "outputs": [
    {
     "output_type": "stream",
     "name": "stdout",
     "text": "[1, 2, 3, 4]\n[4, 3, 2, 1]\n[4, 2, 1, 3]\n"
    }
   ],
   "source": [
    "#　sorted() 不會修改內容，傳回一個新的 list (就地排序))\n",
    "x = [4, 2, 1, 3]\n",
    "y = sorted(x)\n",
    "print(y)\n",
    "z = sorted(x, reverse=True)\n",
    "print(z)\n",
    "print(x)"
   ]
  },
  {
   "cell_type": "code",
   "execution_count": 86,
   "metadata": {},
   "outputs": [
    {
     "output_type": "stream",
     "name": "stdout",
     "text": "True\nFalse\nFalse\nTrue\n"
    }
   ],
   "source": [
    "# in 元素值是否存在\n",
    "a = 3 in [1, 3, 4, 5]\n",
    "print(a)\n",
    "b = 3 not in [1, 3, 4, 5]\n",
    "print(b)\n",
    "c = 3 in [\"one\", \"two\", \"three\"]\n",
    "print(c)\n",
    "d = 3 not in [\"one\", \"two\", \"three\"]\n",
    "print(d)"
   ]
  },
  {
   "cell_type": "code",
   "execution_count": 87,
   "metadata": {},
   "outputs": [
    {
     "output_type": "stream",
     "name": "stdout",
     "text": "[1, 2, 3, 4, 5]\n"
    }
   ],
   "source": [
    "# + 來串聯 list\n",
    "x = [1, 2, 3] + [4, 5]\n",
    "print(x)"
   ]
  },
  {
   "cell_type": "code",
   "execution_count": 89,
   "metadata": {},
   "outputs": [
    {
     "output_type": "stream",
     "name": "stdout",
     "text": "[None, None, None, None]\n[1, 2, 1, 2]\n"
    }
   ],
   "source": [
    "# * 來初始化 list 掌握大小\n",
    "x = [None] * 4\n",
    "print(x)\n",
    "y = [1, 2] * 2\n",
    "print(y)"
   ]
  },
  {
   "cell_type": "code",
   "execution_count": 92,
   "metadata": {},
   "outputs": [
    {
     "output_type": "stream",
     "name": "stdout",
     "text": "-2\n11\n"
    }
   ],
   "source": [
    "# min() 找最小 max() 找最大\n",
    "x = [3, 7, 0 , -2, 11]\n",
    "y = min(x)\n",
    "print(y)\n",
    "z = max(x)\n",
    "print(y)"
   ]
  },
  {
   "cell_type": "code",
   "execution_count": 95,
   "metadata": {},
   "outputs": [
    {
     "output_type": "stream",
     "name": "stdout",
     "text": "3\n"
    }
   ],
   "source": [
    "# index() 找出特定值的索引值\n",
    "x = [1, 3, \"five\", 7, -2]\n",
    "print(x.index(7))"
   ]
  },
  {
   "cell_type": "code",
   "execution_count": 98,
   "metadata": {},
   "outputs": [
    {
     "output_type": "stream",
     "name": "stdout",
     "text": "3\n2\n0\n"
    }
   ],
   "source": [
    "# count() 找出特定值在 list 出現的次數\n",
    "x = [1, 2, 2, 3, 5, 2, 5]\n",
    "print(x.count(2))\n",
    "print(x.count(5))\n",
    "print(x.count(4))"
   ]
  },
  {
   "cell_type": "code",
   "execution_count": null,
   "metadata": {},
   "outputs": [],
   "source": [
    "# x = [] 建立一個空 list\n",
    "\n",
    "# len(x) 傳回 list 長度\n",
    "\n",
    "# x.append(\"y\") 在 list 後面添加一個元素\n",
    "\n"
   ]
  }
 ]
}