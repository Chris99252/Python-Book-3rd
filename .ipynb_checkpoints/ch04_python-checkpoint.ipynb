{
 "cells": [
  {
   "cell_type": "code",
   "execution_count": 1,
   "metadata": {},
   "outputs": [
    {
     "name": "stdout",
     "output_type": "stream",
     "text": [
      "9x8x7x6x5x4x3x2x1 = 362880\n"
     ]
    }
   ],
   "source": [
    "# 一行就是一個敘述\n",
    "\n",
    "n = 9\n",
    "r = 1\n",
    "while n > 0:\n",
    "    r = r * n\n",
    "    n = n - 1\n",
    "print(\"9x8x7x6x5x4x3x2x1 =\", r)\n"
   ]
  },
  {
   "cell_type": "code",
   "execution_count": 2,
   "metadata": {},
   "outputs": [
    {
     "name": "stdout",
     "output_type": "stream",
     "text": [
      "[1, 5, 3] [1, 5, 3] [1, 5, 3]\n"
     ]
    }
   ],
   "source": [
    "# 官方建議使用4個空格來縮排\n",
    "\n",
    "# 【#】符號後面的內容都是註解\n",
    "\n",
    "# 變數為參照(reference)到某個物件的標籤\n",
    "\n",
    "a = [1, 2, 3]\n",
    "b = a\n",
    "c = a\n",
    "b[1] = 5\n",
    "print(a, b, c)"
   ]
  },
  {
   "cell_type": "code",
   "execution_count": 3,
   "metadata": {},
   "outputs": [
    {
     "name": "stdout",
     "output_type": "stream",
     "text": [
      "1.5 1 -1 5.5 4.0\n"
     ]
    }
   ],
   "source": [
    "# 運算式\n",
    "\n",
    "a = 3 / 2 # 1.5 一般除法浮點數\n",
    "b = 3 // 2 # 1 小於商數的最大整數\n",
    "c = -1 // 2 # -1 小於商數的最大整數\n",
    "d = 3 + 5 / 2 # 5.5 依照四則運算\n",
    "e = (3 + 5) / 2 # 4 括號\n",
    "print(a, b, c, d, e)"
   ]
  },
  {
   "cell_type": "code",
   "execution_count": 4,
   "metadata": {},
   "outputs": [
    {
     "name": "stdout",
     "output_type": "stream",
     "text": [
      "Hello, World\n",
      "Hello, World\n"
     ]
    }
   ],
   "source": [
    "# 字串 \"\" or '' 都可以\n",
    "\n",
    "x = 'Hello, World'\n",
    "y = \"Hello, World\"\n",
    "print(x)\n",
    "print(y)\n"
   ]
  },
  {
   "cell_type": "code",
   "execution_count": 5,
   "metadata": {},
   "outputs": [
    {
     "name": "stdout",
     "output_type": "stream",
     "text": [
      "這個字串的開頭是一個\"tab\"字元\n",
      "這個字串包含一個(\\)字元\n"
     ]
    }
   ],
   "source": [
    "# 反斜線可用於轉義字元\n",
    "\n",
    "x = \"\\t這個字串的開頭是一個\\\"tab\\\"字元\"\n",
    "y = \"這個字串包含一個(\\\\)字元\"\n",
    "print(x)\n",
    "print(y)"
   ]
  },
  {
   "cell_type": "code",
   "execution_count": 17,
   "metadata": {},
   "outputs": [
    {
     "name": "stdout",
     "output_type": "stream",
     "text": [
      "出工的天進中來候入處上各？己父局金動是則；陸北樣地研先料體……念之我工醫……排王院可司、會制以學是：需使動好著廣年總代以草車連海很條只學算中調，國團不小然情在因坡。\n"
     ]
    }
   ],
   "source": [
    "# 不可以跨行將字串拆成多行，程式無法正常運作\n",
    "\n",
    "# 可以使用 \\號 來定義福點數\n",
    "\n",
    "x = \"出工的天進中來候入處上各？己父局金動是則；陸北樣地研先料體……念之我工醫……排王院可司、\" \\\n",
    "    \"會制以學是：需使動好著廣年總代以草車連海很條只學算中調，國團不小然情在因坡。\"\n",
    "print(x)"
   ]
  },
  {
   "cell_type": "code",
   "execution_count": 1,
   "metadata": {},
   "outputs": [
    {
     "name": "stdout",
     "output_type": "stream",
     "text": [
      "1\n",
      "2.5\n",
      "2.5\n",
      "2\n",
      "2.0\n",
      "2e-08\n",
      "200\n",
      "200\n"
     ]
    }
   ],
   "source": [
    "# 四種數字類型 : 整數、浮點數、複數和布林值\n",
    "\n",
    "a = 5 + 2 - 3 * 2\n",
    "print(a)\n",
    "b = 5 / 2\n",
    "print(b) # 除法(/)運算結果為浮點數\n",
    "c = 5 / 2.0\n",
    "print(c)\n",
    "d = 5 // 2\n",
    "print(d) # 除法(//)運算結果為小於商數的最大整數\n",
    "e = 5.0 // 2\n",
    "print(e) # 5.0是浮點數，運算結果變為浮點數\n",
    "f = 2.0e-8\n",
    "print(f) # 用科學計數法表示一個浮點數\n",
    "g = int(200.2)\n",
    "print(g) # int()會截斷浮點數的小數部分\n",
    "h = int(2e2)\n",
    "print(h)\n",
    "i = float(200) # float()會將整數轉為浮點數"
   ]
  },
  {
   "cell_type": "code",
   "execution_count": 2,
   "metadata": {},
   "outputs": [],
   "source": [
    "# 內建的數值函式 abs, divmod, float, hex, int, max, min, oct, pow, rounf\n",
    "\n",
    "# https://docs.python.org/3/library/functions.html\n",
    "\n",
    "# math 提供進階的數值函式\n",
    "\n",
    "# https://docs.python.org/3/library/math.html\n",
    "\n",
    "import math"
   ]
  },
  {
   "cell_type": "code",
   "execution_count": 9,
   "metadata": {},
   "outputs": [
    {
     "name": "stdout",
     "output_type": "stream",
     "text": [
      "(3+2j)\n",
      "(-1-2j)\n",
      "(-5+10j)\n",
      "(-1+0j)\n",
      "3.0\n",
      "5.0\n"
     ]
    }
   ],
   "source": [
    "# 複數\n",
    "a = 3+2j\n",
    "print(a)\n",
    "b = (3+2j)-(4+4j)\n",
    "print(b)\n",
    "c = (1+2j)*(3+4j)\n",
    "print(c)\n",
    "d = 1j*1j\n",
    "print(d)\n",
    "e = (3+5j)\n",
    "print(e.real) # 實部\n",
    "print(e.imag) # 虛部"
   ]
  },
  {
   "cell_type": "code",
   "execution_count": 12,
   "metadata": {},
   "outputs": [],
   "source": [
    "# math 不提供複數的運算，要使用 cmath\n",
    "\n",
    "import cmath"
   ]
  },
  {
   "cell_type": "code",
   "execution_count": 15,
   "metadata": {},
   "outputs": [
    {
     "name": "stdout",
     "output_type": "stream",
     "text": [
      "False\n",
      "False\n",
      "True\n",
      "True\n"
     ]
    }
   ],
   "source": [
    "# None值 用於表示空值\n",
    "\n",
    "a = None == False\n",
    "print(a)\n",
    "b = None == 0\n",
    "print(b)\n",
    "c = None == None\n",
    "print(c) # None 只等於自己\n",
    "d = False == 0\n",
    "print(d)"
   ]
  },
  {
   "cell_type": "code",
   "execution_count": 19,
   "metadata": {},
   "outputs": [
    {
     "name": "stdout",
     "output_type": "stream",
     "text": [
      "Chris\n",
      "29\n"
     ]
    }
   ],
   "source": [
    "# 用 input() 取得使用者的輸入\n",
    "\n",
    "name = input(\"Name? \")\n",
    "print(name)\n",
    "\n",
    "# 使用者的輸入式字串型別\n",
    "age = int(input(\"Age? \"))\n",
    "print(age+1)"
   ]
  },
  {
   "cell_type": "code",
   "execution_count": 20,
   "metadata": {},
   "outputs": [],
   "source": [
    "# 模組/套件名稱 : imp, sys\n",
    "\n",
    "# 函式名稱 : foo(), my_func()\n",
    "\n",
    "# 變數名稱 : my_var\n",
    "\n",
    "# 類別名稱 : MyClass\n",
    "\n",
    "# 常數名稱 : PI, TAX_PATE\n",
    "\n",
    "# 縮排 : 4個空格\n",
    "\n",
    "# True False 比較 : if my_var: if not my_var\n",
    "\n",
    "# 底線開頭或結尾的名稱，請避免使用"
   ]
  }
 ],
 "metadata": {
  "file_extension": ".py",
  "kernelspec": {
   "display_name": "Python 3",
   "language": "python",
   "name": "python3"
  },
  "language_info": {
   "codemirror_mode": {
    "name": "ipython",
    "version": 3
   },
   "file_extension": ".py",
   "mimetype": "text/x-python",
   "name": "python",
   "nbconvert_exporter": "python",
   "pygments_lexer": "ipython3",
   "version": "3.7.3"
  },
  "mimetype": "text/x-python",
  "name": "python",
  "npconvert_exporter": "python",
  "pygments_lexer": "ipython3",
  "version": 3
 },
 "nbformat": 4,
 "nbformat_minor": 2
}
