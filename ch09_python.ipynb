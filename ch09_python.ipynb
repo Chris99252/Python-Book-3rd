{
 "cells": [
  {
   "cell_type": "code",
   "execution_count": 2,
   "metadata": {},
   "outputs": [],
   "source": [
    "def fact(n):\n",
    "    \"\"\"回傳參數 n 的階乘\"\"\"\n",
    "    r = 1\n",
    "    while n > 0:\n",
    "        r = r * n\n",
    "        n = n - 1\n",
    "    return r"
   ]
  },
  {
   "cell_type": "code",
   "execution_count": 5,
   "metadata": {},
   "outputs": [
    {
     "output_type": "stream",
     "name": "stdout",
     "text": "24\n"
    }
   ],
   "source": [
    "fact(4) # 只有執行函式，沒有處裡其傳回值\n",
    "x = fact(4)\n",
    "print(x)"
   ]
  },
  {
   "cell_type": "code",
   "execution_count": 12,
   "metadata": {},
   "outputs": [],
   "source": [
    "def power(x, y = 2):\n",
    "    r = 1\n",
    "    while y > 0:\n",
    "        r = r * x\n",
    "        y = y - 1\n",
    "    return r"
   ]
  },
  {
   "cell_type": "code",
   "execution_count": 13,
   "metadata": {},
   "outputs": [
    {
     "output_type": "stream",
     "name": "stdout",
     "text": "81\n9\n"
    }
   ],
   "source": [
    "x = power(3, 4)\n",
    "print(x)\n",
    "y = power(3)\n",
    "print(y)"
   ]
  },
  {
   "cell_type": "code",
   "execution_count": 14,
   "metadata": {},
   "outputs": [],
   "source": [
    "# 用一個參數接收多出來的位置引數\n",
    "\n",
    "def maximum(*numbers):\n",
    "    if len(numbers) == 0:\n",
    "        return None\n",
    "    else:\n",
    "        maxnum = numbers[0]\n",
    "        for n in numbers[1:]:\n",
    "            if n > maxnum:\n",
    "                maxnum = n\n",
    "        return maxnum"
   ]
  },
  {
   "cell_type": "code",
   "execution_count": 18,
   "metadata": {},
   "outputs": [
    {
     "output_type": "stream",
     "name": "stdout",
     "text": "8\n9\nNone\n"
    }
   ],
   "source": [
    "print(maximum(3, 2, 8))\n",
    "print(maximum(1, 5, 9, -2, 2))\n",
    "print(maximum())"
   ]
  },
  {
   "cell_type": "code",
   "execution_count": 19,
   "metadata": {},
   "outputs": [],
   "source": [
    "# 用一個參數接收多出來的指名引數\n",
    "\n",
    "def example_fun(x, y, **other):\n",
    "    print(\"x: {0}, y: {1}, 字典 'other' 內的鍵: {2}\".format(x,y, list(other.keys())))\n",
    "    other_total = 0\n",
    "    for k in other.keys():\n",
    "        other_total = other_total + other[k]\n",
    "    print(\"字典 'other' 內值的總合為 {0}\".format(other_total))"
   ]
  },
  {
   "cell_type": "code",
   "execution_count": 20,
   "metadata": {},
   "outputs": [
    {
     "output_type": "stream",
     "name": "stdout",
     "text": "x: 2, y: 1, 字典 'other' 內的鍵: ['foo', 'bar']\n字典 'other' 內值的總合為 7\n"
    }
   ],
   "source": [
    "example_fun(2, y = \"1\", foo = 3, bar = 4)\n",
    "\n",
    "# 位置參數, 預設值參數, *args, **kwargs 參數定義的順序"
   ]
  },
  {
   "cell_type": "code",
   "execution_count": 27,
   "metadata": {},
   "outputs": [],
   "source": [
    "# 傳入可變物件如何不影響函式外部\n",
    "\n",
    "def f(lst):\n",
    "    lst = lst[:]\n",
    "    lst.append(3)\n",
    "    return lst\n",
    "\n",
    "def data_append(v, lst = None):\n",
    "    if lst is None:\n",
    "        lst = []\n",
    "    lst.append(v)\n",
    "    return lst"
   ]
  },
  {
   "cell_type": "code",
   "execution_count": 29,
   "metadata": {},
   "outputs": [
    {
     "output_type": "stream",
     "name": "stdout",
     "text": "[1, 2]\n[1, 2, 3]\n[1]\n[2]\n"
    }
   ],
   "source": [
    "x = [1, 2]\n",
    "y = f(x)\n",
    "print(x)\n",
    "print(y)\n",
    "print(data_append(1))\n",
    "print(data_append(2))"
   ]
  },
  {
   "cell_type": "code",
   "execution_count": 30,
   "metadata": {},
   "outputs": [
    {
     "output_type": "stream",
     "name": "stdout",
     "text": "1\ntwo\n"
    }
   ],
   "source": [
    "# local、global、nonlocal 變數\n",
    "\n",
    "# 用 global 宣告全域變數\n",
    "\n",
    "def func():\n",
    "    global a\n",
    "    a = 1\n",
    "    b = 2\n",
    "\n",
    "a = \"one\"\n",
    "b = \"two\"\n",
    "func()\n",
    "print(a) # globa 全域變數，函式內改了連帶外部也改了\n",
    "print(b)"
   ]
  },
  {
   "cell_type": "code",
   "execution_count": 32,
   "metadata": {},
   "outputs": [
    {
     "output_type": "stream",
     "name": "stdout",
     "text": "top level -> g_var: 0 nl_var: 0\nin test -> g_var: 0 nl_var: 2\nin inner_test -> g_var: 1 nl_var: 4\nin test -> g_var: 1 nl_var: 4\ntop level -> g_var: 1 nl_var: 0\n"
    }
   ],
   "source": [
    "# nonlocal 宣告為上一層變數\n",
    "\n",
    "g_var = 0\n",
    "nl_var = 0\n",
    "\n",
    "print(\"top level -> g_var: {0} nl_var: {1}\".format(g_var, nl_var))\n",
    "\n",
    "def test():\n",
    "    nl_var = 2\n",
    "    print(\"in test -> g_var: {0} nl_var: {1}\".format(g_var, nl_var))\n",
    "\n",
    "    def inner_test():\n",
    "        global g_var\n",
    "        nonlocal nl_var\n",
    "\n",
    "        g_var = 1\n",
    "        nl_var = 4\n",
    "\n",
    "        print(\"in inner_test -> g_var: {0} nl_var: {1}\".format(g_var, nl_var))\n",
    "\n",
    "    inner_test()\n",
    "    print(\"in test -> g_var: {0} nl_var: {1}\".format(g_var, nl_var))\n",
    "\n",
    "test()\n",
    "print(\"top level -> g_var: {0} nl_var: {1}\".format(g_var, nl_var))\n",
    "\n",
    "# global 與 nonlocal 敘述的位置，建議放在函式最前面"
   ]
  },
  {
   "cell_type": "code",
   "execution_count": 35,
   "metadata": {},
   "outputs": [
    {
     "output_type": "stream",
     "name": "stdout",
     "text": "273.15\n273.15\n273.15\n273.15\n"
    }
   ],
   "source": [
    "# 將變數參照到函式\n",
    "\n",
    "def f_to_kelvin(degres_f):\n",
    "    return 273.15 + (degres_f - 32) * 5 / 9\n",
    "\n",
    "def c_to_kelvin(degres_c):\n",
    "    return 273.15 + degres_c\n",
    "\n",
    "abs_temperature = f_to_kelvin\n",
    "print(abs_temperature(32))\n",
    "\n",
    "abs_temperature = c_to_kelvin\n",
    "\n",
    "print(abs_temperature(0))\n",
    "\n",
    "t = {'FtoK': f_to_kelvin, 'CtoK': c_to_kelvin}\n",
    "print(t['FtoK'](32))\n",
    "print(t['CtoK'](0))"
   ]
  },
  {
   "cell_type": "code",
   "execution_count": 36,
   "metadata": {},
   "outputs": [
    {
     "output_type": "stream",
     "name": "stdout",
     "text": "['QUICK', 'PYTHON', 'BOOK']\n"
    }
   ],
   "source": [
    "# 將函式當成引數來傳遞與其適用場合\n",
    "\n",
    "w = ['Quick', 'Python', 'Book']\n",
    "\n",
    "def uppercase(s):\n",
    "    return s.upper()\n",
    "\n",
    "result = list(map(uppercase, w)) # map 會逐一取出 w 的元素，交給 uppercase 函式處理\n",
    "print(result)"
   ]
  },
  {
   "cell_type": "code",
   "execution_count": 39,
   "metadata": {},
   "outputs": [
    {
     "output_type": "stream",
     "name": "stdout",
     "text": "273.15\n"
    }
   ],
   "source": [
    "# lambda 匿名函式\n",
    "\n",
    "t2 = {'FtoK': lambda deg_f: 273.15 + (deg_f - 32) * 5 / 9,\n",
    "      'CtoK': lambda deg_c: 273.15 + deg_c}\n",
    "\n",
    "print(t2['FtoK'](32))\n",
    "\n",
    "# 濫用 lambda 可能會影響程式可讀性"
   ]
  },
  {
   "cell_type": "code",
   "execution_count": 44,
   "metadata": {},
   "outputs": [
    {
     "output_type": "stream",
     "name": "stdout",
     "text": "in generator, x = 0\n0\nin generator, x = 1\n1\nin generator, x = 2\n2\nin generator, x = 3\n3\nin generator, x = 0\nin generator, x = 1\nin generator, x = 2\nTrue\nin generator, x = 0\nin generator, x = 1\nin generator, x = 2\nin generator, x = 3\nFalse\n"
    }
   ],
   "source": [
    "# 產生器(走訪器)函式 generator\n",
    "\n",
    "def four():\n",
    "    x = 0\n",
    "    while x < 4:\n",
    "        print(\"in generator, x =\", x)\n",
    "        yield x\n",
    "        x += 1\n",
    "\n",
    "for i in four():\n",
    "    print(i)\n",
    "\n",
    "print(2 in four())\n",
    "\n",
    "print(5 in four())"
   ]
  },
  {
   "cell_type": "code",
   "execution_count": 45,
   "metadata": {},
   "outputs": [
    {
     "output_type": "stream",
     "name": "stdout",
     "text": "0\n1\n2\n3\n4\n5\n"
    }
   ],
   "source": [
    "# yield 與 yield from 讓程式重構變得更簡單\n",
    "\n",
    "def subgen(x):\n",
    "    for i in range(x):\n",
    "        yield i\n",
    "\n",
    "def gen(y):\n",
    "    yield from subgen(y)\n",
    "\n",
    "for q in gen(6):\n",
    "    print(q)"
   ]
  },
  {
   "cell_type": "code",
   "execution_count": 55,
   "metadata": {},
   "outputs": [],
   "source": [
    "# 修飾器 Decorator\n",
    "\n",
    "def decorate(func):\n",
    "    def wrapper_func(*args):\n",
    "        print(\"原函式執行前\") # decorate 額外加入的動作\n",
    "        func(*args)          # myfunction 函式原有的動作\n",
    "        print(\"原函式已執行\") # decorate 額外加入的動作\n",
    "    return wrapper_func\n",
    "    \n",
    "@decorate\n",
    "def myfunction(parameter):\n",
    "    print(parameter)"
   ]
  },
  {
   "cell_type": "code",
   "execution_count": 57,
   "metadata": {},
   "outputs": [
    {
     "output_type": "stream",
     "name": "stdout",
     "text": "原函式執行前\nhello\n原函式已執行\n"
    }
   ],
   "source": [
    "# myfunction = decorate(myfunction)\n",
    "myfunction(\"hello\")\n",
    "\n",
    "# @decorate 語法糖\n"
   ]
  },
  {
   "cell_type": "code",
   "execution_count": null,
   "metadata": {},
   "outputs": [],
   "source": []
  }
 ],
 "metadata": {
  "language_info": {
   "codemirror_mode": {
    "name": "ipython",
    "version": 3
   },
   "file_extension": ".py",
   "mimetype": "text/x-python",
   "name": "python",
   "nbconvert_exporter": "python",
   "pygments_lexer": "ipython3",
   "version": "3.7.3-final"
  },
  "orig_nbformat": 2,
  "kernelspec": {
   "name": "python3",
   "display_name": "Python 3"
  }
 },
 "nbformat": 4,
 "nbformat_minor": 2
}