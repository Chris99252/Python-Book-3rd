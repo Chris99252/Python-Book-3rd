{
 "cells": [
  {
   "cell_type": "code",
   "execution_count": 5,
   "metadata": {},
   "outputs": [
    {
     "output_type": "stream",
     "name": "stdout",
     "text": "{'Mary': 13, 'John': 14, 'Tony': 13}\n13\n{'Mary': 13, 'John': 14, 'Tony': 13, 'Peter': 12}\n"
    }
   ],
   "source": [
    "# 字典(dict) 是以[鍵:值]成對的方式儲存\n",
    "\n",
    "ages = {\"Mary\":13, \"John\":14, \"Tony\":13}\n",
    "print(ages)\n",
    "print(ages[\"Mary\"])\n",
    "ages[\"Peter\"] = 12\n",
    "print(ages)"
   ]
  },
  {
   "cell_type": "code",
   "execution_count": 13,
   "metadata": {},
   "outputs": [
    {
     "output_type": "stream",
     "name": "stdout",
     "text": "Hello\nHello, Friend.\n"
    },
    {
     "output_type": "execute_result",
     "data": {
      "text/plain": "6.28"
     },
     "metadata": {},
     "execution_count": 13
    }
   ],
   "source": [
    "x = [] # 建立一個空的 list\n",
    "y = {} # 建立一個空的字典\n",
    "y[0] = 'Hello'\n",
    "y[1] = 'Goodbye'\n",
    "#x[0] = 'Hello' #用list中不存在的索引來賦值是非法的\n",
    "print(y[0])\n",
    "print(y[0]+\", Friend.\")\n",
    "\n",
    "y[\"two\"] = \"two\"\n",
    "y[\"two\"] = 2\n",
    "y[\"pi\"] = 3.14\n",
    "y[\"two\"] * y[\"pi\"]"
   ]
  },
  {
   "cell_type": "code",
   "execution_count": 15,
   "metadata": {},
   "outputs": [
    {
     "output_type": "stream",
     "name": "stdout",
     "text": "red is rouge\n"
    }
   ],
   "source": [
    "english_to_french = {}\n",
    "english_to_french['red'] = 'rouge'\n",
    "english_to_french['blue'] = 'bleu'\n",
    "english_to_french['green'] = 'vert'\n",
    "print(\"red is\", english_to_french['red'])"
   ]
  },
  {
   "cell_type": "code",
   "execution_count": 20,
   "metadata": {},
   "outputs": [
    {
     "output_type": "stream",
     "name": "stdout",
     "text": "['red', 'blue', 'green']\n['rouge', 'bleu', 'vert']\n[('red', 'rouge'), ('blue', 'bleu'), ('green', 'vert')]\n"
    }
   ],
   "source": [
    "english_to_french = {'red': 'rouge', 'blue': 'bleu', 'green': 'vert'}\n",
    "len(english_to_french)\n",
    "x = list(english_to_french.keys()) # 取得字典所有的鍵然後轉成 list\n",
    "print(x)\n",
    "y = list(english_to_french.values()) # 取得字典所有的值然後轉成 list\n",
    "print(y)\n",
    "z = list(english_to_french.items()) # tuple 存放\n",
    "print(z)\n"
   ]
  },
  {
   "cell_type": "code",
   "execution_count": 28,
   "metadata": {},
   "outputs": [
    {
     "output_type": "stream",
     "name": "stdout",
     "text": "[('red', 'rouge'), ('blue', 'bleu'), ('green', 'vert')]\n[('red', 'rouge'), ('blue', 'bleu')]\nTrue\nFalse\nbleu\nNo translation\nNo translation\n{'red': 'rouge', 'blue': 'bleu', 'chartreuse': 'No translation'}\n"
    }
   ],
   "source": [
    "# del 可以用來刪除字典中的項目\n",
    "english_to_french = {'red': 'rouge', 'blue': 'bleu', 'green': 'vert'}\n",
    "x = list(english_to_french.items())\n",
    "print(x)\n",
    "del english_to_french['green']\n",
    "y = list(english_to_french.items())\n",
    "print(y)\n",
    "# in 來測試鍵是否存在於字典\n",
    "a = 'red' in english_to_french\n",
    "print(a)\n",
    "b = 'orange' in english_to_french\n",
    "print(b)\n",
    "# get(鍵, 找不到回傳第二個參數)\n",
    "print(english_to_french.get('blue', 'No translation'))\n",
    "print(english_to_french.get('chartreuse', 'No translation')) # 回傳但不建立\n",
    "print(english_to_french.setdefault('chartreuse', 'No translation')) # 找不到就建立一組\n",
    "print(english_to_french)"
   ]
  },
  {
   "cell_type": "code",
   "execution_count": 29,
   "metadata": {},
   "outputs": [
    {
     "output_type": "stream",
     "name": "stdout",
     "text": "{0: 'zero', 1: 'one'}\n"
    }
   ],
   "source": [
    "# copy() 取得字典的副本\n",
    "x = {0: 'zero', 1: 'one'}\n",
    "y = x.copy()\n",
    "print(y)"
   ]
  },
  {
   "cell_type": "code",
   "execution_count": 30,
   "metadata": {},
   "outputs": [
    {
     "output_type": "stream",
     "name": "stdout",
     "text": "{0: 'Zero', 1: 'One', 2: 'Two'}\n"
    }
   ],
   "source": [
    "x = {1: 'One', 2: 'Two'}\n",
    "y = {0: 'Zero', 1: 'one'}\n",
    "y.update(x) # 共同鍵更新，原不存在的鍵新增\n",
    "print(y)"
   ]
  },
  {
   "cell_type": "code",
   "execution_count": 32,
   "metadata": {},
   "outputs": [
    {
     "output_type": "stream",
     "name": "stdout",
     "text": "The word To occurs 1 times in the string\nThe word be occurs 2 times in the string\nThe word or occurs 1 times in the string\nThe word not occurs 1 times in the string\nThe word to occurs 1 times in the string\n"
    }
   ],
   "source": [
    "sample_string = \"To be or not to be\"\n",
    "occurrences = {}\n",
    "for word in sample_string.split():\n",
    "    occurrences[word] = occurrences.get(word, 0 ) + 1\n",
    "for word in occurrences:\n",
    "    print(\"The word\", word, \"occurs\", occurrences[word], \"times in the string\")\n"
   ]
  },
  {
   "cell_type": "code",
   "execution_count": null,
   "metadata": {},
   "outputs": [],
   "source": [
    "# 有資格作為字典鍵的 Python 型別\n",
    "# Python 型別  是否不可變?  是否可雜湊?  是否可當作字典的鍵?\n",
    "# int             是           是              是\n",
    "# float           是           是              是\n",
    "# boolean         是           是              是\n",
    "# complex         是           是              是\n",
    "# str             是           是              是\n",
    "# bytes           是           是              是\n",
    "# bytearray       否           否              否\n",
    "# list            否           否              否\n",
    "# tuple           是         有時可以        有時可以\n",
    "# set             否           否              否\n",
    "# frozenset       是           是              是\n",
    "# dictionary      否           否              否"
   ]
  },
  {
   "cell_type": "code",
   "execution_count": 38,
   "metadata": {},
   "outputs": [
    {
     "output_type": "stream",
     "name": "stdout",
     "text": "3\n3\n3\n"
    }
   ],
   "source": [
    "# 稀疏矩陣\n",
    "matrix1 = [[3, 0, -2, 11], [0, 9, 0, 0],[0, 7, 0, 0], [0, 0, 0, -5]]\n",
    "element1 = matrix1[0][0] # 透過列號與行號的索引\n",
    "print(element1)\n",
    "\n",
    "matrix2 = {(0, 0): 3, (0, 2): -2, (0, 3): 11, (1, 1): 9, (2, 1): 7, (3, 3): -5}\n",
    "if (0, 0) in matrix2:\n",
    "    element2 = matrix2[(0, 0)]\n",
    "else:\n",
    "    element2 = 0\n",
    "print(element2)\n",
    "\n",
    "element3 = matrix2.get((0,0), 0)\n",
    "print(element3)"
   ]
  },
  {
   "cell_type": "code",
   "execution_count": null,
   "metadata": {},
   "outputs": [],
   "source": [
    "# 以字典作為快取\n",
    "sole_cache = {}\n",
    "def sole(m, n, t):\n",
    "    if (m, n, t) in sole_cache: # 如果字典內已有此鍵\n",
    "        return sole_cache[(m, n, t)] # 把值回傳\n",
    "    else:\n",
    "        #... 否則對 m, n, t 進行一些運算\n",
    "        sole_cache[(m, n, t)] = result # 把值存在字典供之後使用\n",
    "        return result # 回傳這次計算的值"
   ]
  },
  {
   "cell_type": "code",
   "execution_count": null,
   "metadata": {},
   "outputs": [],
   "source": [
    "# {}         建立一個空字典          x={}\n",
    "# len()      傳回字典中項目的個數    len(x)\n",
    "# keys()     傳回字典中所有鍵的視圖  x.keys()\n",
    "# values()   傳回字典中所有值的視圖  x.values()\n",
    "# items()    傳回字典中所有的鍵跟值  x.items()\n",
    "# del        從字典中刪除一個項目    del x[key]\n",
    "# in         測試一個鍵是否存在於字典中 'y' in x\n",
    "# get()      如果鍵在字典中，則回傳對應值，否則回傳第二個參數設定的值 x.get('y', None)\n",
    "# setdefault 如果鍵在字典中，則回傳對應值，否則回傳第二個參數設定的值 x.setdefault('y', None)\n",
    "#            並以傳入的引數來新增該鍵:值\n",
    "# copy()     製作一個淺層複本 y = x.copy()\n",
    "# update()   合併兩字典 x.update(z)"
   ]
  }
 ],
 "metadata": {
  "language_info": {
   "codemirror_mode": {
    "name": "ipython",
    "version": 3
   },
   "file_extension": ".py",
   "mimetype": "text/x-python",
   "name": "python",
   "nbconvert_exporter": "python",
   "pygments_lexer": "ipython3",
   "version": "3.7.3-final"
  },
  "orig_nbformat": 2,
  "kernelspec": {
   "name": "python3",
   "display_name": "Python 3"
  }
 },
 "nbformat": 4,
 "nbformat_minor": 2
}