{
 "cells": [
  {
   "cell_type": "code",
   "execution_count": 3,
   "metadata": {},
   "outputs": [
    {
     "output_type": "stream",
     "name": "stdout",
     "text": "0\n362880\n"
    }
   ],
   "source": [
    "# while 條件式: 主體程式區塊 else: 後置程式區塊\n",
    "# break 立即終止 while 迴圈\n",
    "# continue 跳過後面程式，回到 條件式 繼續下一次迴圈\n",
    "n = 9\n",
    "r = 1\n",
    "while n > 0:\n",
    "    r = r * n\n",
    "    n = n - 1\n",
    "print(n)\n",
    "print(r)"
   ]
  },
  {
   "cell_type": "code",
   "execution_count": 5,
   "metadata": {},
   "outputs": [
    {
     "output_type": "stream",
     "name": "stdout",
     "text": "success\nsuccess\n"
    }
   ],
   "source": [
    "# if 條件式1: 程式區塊1 elif 條件式2: 程式區塊2 else: 程式區塊n\n",
    "n = 101\n",
    "if n > 100:\n",
    "    result = \"success\"\n",
    "else:\n",
    "    result = \"failed\"\n",
    "print(result)\n",
    "\n",
    "result = \"success\" if n > 100 else 'failed'\n",
    "print(result)\n",
    "\n",
    "# 可以使用 pass 敘述來跳過，不做任何動作\n",
    "if x < 5:\n",
    "    pass\n",
    "else:\n",
    "    x = 5\n",
    "\n",
    "# Python 中沒有 switch-case 語法"
   ]
  },
  {
   "cell_type": "code",
   "execution_count": 6,
   "metadata": {},
   "outputs": [
    {
     "output_type": "stream",
     "name": "stdout",
     "text": "1.0\n0.5\n0.3333333333333333\n"
    }
   ],
   "source": [
    "# for 迴圈\n",
    "# for item in 可走訪物件: 主體程式區塊 else: 後置程式區塊\n",
    "x = [1.0, 2.0, 3.0]\n",
    "for n in x:\n",
    "    print(1 / n)"
   ]
  },
  {
   "cell_type": "code",
   "execution_count": 14,
   "metadata": {},
   "outputs": [
    {
     "output_type": "stream",
     "name": "stdout",
     "text": "找到負數, 其索引值為  2\n找到負數, 其索引值為  5\n[3, 4, 5, 6]\n[2, 3, 4, 5, 6, 7, 8, 9]\n[]\n[0, 2, 4, 6, 8]\n[5, 4, 3, 2, 1]\n"
    }
   ],
   "source": [
    "# range() 函式\n",
    "x = [1, 3, -7, 4, 9, -5, 4]\n",
    "for i in range(len(x)):\n",
    "    if  x[i] < 0:\n",
    "        print(\"找到負數, 其索引值為 \", i)\n",
    "\n",
    "# 以 range(m, n)控制數列範圍\n",
    "a = list(range(3, 7))\n",
    "print(a)\n",
    "b = list(range(2, 10))\n",
    "print(b)\n",
    "c = list(range(5, 3))\n",
    "print(c)\n",
    "d = list(range(0, 10, 2)) # 第三個參數指定遞增量\n",
    "print(d)\n",
    "e = list(range(5, 0, -1)) # 負值，數列由大到小排列\n",
    "print(e)\n",
    "\n",
    "# 可在 for 迴圈中使用 break 和 continue"
   ]
  },
  {
   "cell_type": "code",
   "execution_count": 17,
   "metadata": {},
   "outputs": [
    {
     "output_type": "stream",
     "name": "stdout",
     "text": "68\n68\n"
    }
   ],
   "source": [
    "# for 迴圈與 tuple 解包多重設定變數\n",
    "\n",
    "somelist = [(1,2), (3, 7), (9, 5)]\n",
    "result1 = 0\n",
    "for t in somelist:\n",
    "    result1 = result1 + (t[0] * t[1])\n",
    "print(result1)\n",
    "\n",
    "result2 = 0\n",
    "for num1, num2 in somelist:\n",
    "    result2 = result2 + (num1 * num2)\n",
    "print(result2)"
   ]
  },
  {
   "cell_type": "code",
   "execution_count": 41,
   "metadata": {},
   "outputs": [
    {
     "output_type": "stream",
     "name": "stdout",
     "text": "[(0, 'a'), (1, 'b'), (2, 'c')]\n找到負數, 其索引值為  2 -7\n找到負數, 其索引值為  5 -5\n"
    }
   ],
   "source": [
    "# enumerate() 函式 需要索引編號時使用\n",
    "x = ['a', 'b', 'c']\n",
    "y = list(enumerate(x))\n",
    "print(y)\n",
    "z = [1, 3, -7, 4, 9, -5, 4]\n",
    "for (i, n) in enumerate(z):\n",
    "    if n < 0:\n",
    "        print(\"找到負數, 其索引值為 \", i, z[i])\n"
   ]
  },
  {
   "cell_type": "code",
   "execution_count": 22,
   "metadata": {},
   "outputs": [
    {
     "output_type": "execute_result",
     "data": {
      "text/plain": "[(1, 'a'), (2, 'b'), (3, 'c')]"
     },
     "metadata": {},
     "execution_count": 22
    }
   ],
   "source": [
    "# zip 函式 可以將兩個可走訪的物件結合起來，以長度較短的物件為準，超過的會捨棄\n",
    "x = [1, 2, 3, 4]\n",
    "y = ['a', 'b', 'c']\n",
    "z = zip(x, y)\n",
    "list(z)"
   ]
  },
  {
   "cell_type": "code",
   "execution_count": 27,
   "metadata": {},
   "outputs": [
    {
     "output_type": "stream",
     "name": "stdout",
     "text": "[1, 4, 9, 16]\n[1, 4, 9, 16]\n[9, 16]\n{1: 1, 2: 4, 3: 9, 4: 16}\n"
    }
   ],
   "source": [
    "# 生成式 Comprehension 和 產生器 Generator\n",
    "\n",
    "x = [1, 2, 3, 4]\n",
    "x_squared = []\n",
    "for item in x:\n",
    "    x_squared.append(item * item)\n",
    "print(x_squared)\n",
    "\n",
    "# new_list = [運算式 for 變數 in 原有list if 條件式]\n",
    "\n",
    "# 1. 在符合 if 條件式的狀況下取出原有 list 的元素\n",
    "# 2. 取出的元素指定給變數\n",
    "# 3. 將變數帶入運算式\n",
    "# 4. 運算後的值變成新 list 的元素\n",
    "\n",
    "x_squared_com = [item * item for item in x]\n",
    "print(x_squared_com)\n",
    "\n",
    "x_squared_com_if = [item * item for item in x if item > 2]\n",
    "print(x_squared_com_if)\n",
    "\n",
    "# 字典 dict 生成式\n",
    "\n",
    "x_squared_com_dic = {item: item * item for item in x}\n",
    "print(x_squared_com_dic)"
   ]
  },
  {
   "cell_type": "code",
   "execution_count": 39,
   "metadata": {},
   "outputs": [
    {
     "output_type": "stream",
     "name": "stdout",
     "text": "[0, 2, 3, 5, 6]\n[7, 6, 5, 4, 3, 2, 1, 0]\n[0, 2, 4, 6]\n[0, 2, 4, 6]\n"
    }
   ],
   "source": [
    "# 使用索引刪除 list 元素的隱形 bug\n",
    "x = [0, 1, 2, 3, 4, 5, 6, 7]\n",
    "for (i, n) in enumerate(x):\n",
    "    if i%2 == 1:\n",
    "        del x[i]\n",
    "print(x)\n",
    "\n",
    "y = [0, 1, 2, 3, 4, 5, 6, 7]\n",
    "print(list(range(len(y)-1, -1, -1)))\n",
    "for i in range(len(y)-1, -1, -1):\n",
    "    if i%2 == 1:\n",
    "        del y[i]\n",
    "print(y)\n",
    "\n",
    "z = [0, 1, 2, 3, 4, 5, 6, 7]\n",
    "\n",
    "z = [n for (i, n) in enumerate(z) if not n%2 == 1]\n",
    "print(z)"
   ]
  },
  {
   "cell_type": "code",
   "execution_count": 70,
   "metadata": {},
   "outputs": [
    {
     "output_type": "stream",
     "name": "stdout",
     "text": "1\n4\n9\n16\n"
    }
   ],
   "source": [
    "# 產生器 Generator\n",
    "x = [1, 2, 3, 4]\n",
    "x_squared = (item * item for item in x) # 使用() 優點不耗記憶體\n",
    "for square in x_squared:\n",
    "    print(square)"
   ]
  },
  {
   "cell_type": "code",
   "execution_count": 76,
   "metadata": {},
   "outputs": [
    {
     "output_type": "stream",
     "name": "stdout",
     "text": "1 1 10\nstring1 string2 string3 string4 string5\n1500\n[100, 300, 500, 700, 900, 1100, 1300]\n1200\n1500\n"
    }
   ],
   "source": [
    "# 敘述、區塊、和縮排\n",
    "x = 1; y = 0; z = 0      # 多個敘述用分號隔開放在同一行\n",
    "if x > 0: y = 1; z = 10  # 多個敘述可以放在冒號後面\n",
    "else: y = -1             # 敘述可以放在冒號後面\n",
    "print(x, y, z)\n",
    "print('string1', 'string2', 'string3' \\\n",
    ", 'string4', 'string5')\n",
    "n = 100 + 200 + 300 \\\n",
    "    + 400 + 500\n",
    "print(n)\n",
    "v = [100, 300, 500, 700, 900,\n",
    "    1100, 1300]\n",
    "print(v)\n",
    "m = max(1000, 300, 500,\n",
    "        800, 1200)\n",
    "print(m)\n",
    "a = (100 + 200 + 300\n",
    "+ 400 + 500)\n",
    "print(a)"
   ]
  },
  {
   "cell_type": "code",
   "execution_count": 85,
   "metadata": {},
   "outputs": [
    {
     "output_type": "stream",
     "name": "stdout",
     "text": "1\n1\n[3, 4]\n[]\n[2]\n[5]\n"
    }
   ],
   "source": [
    "# 布林值與運算式的真假運算\n",
    "\n",
    "# 數字 0, 0.0 和 0 + 0j 均為 False; 任何其他數字都是 True\n",
    "# 空字串 \"\" 為 False; 任何其他字串都是 True\n",
    "# 空 list [] 為 False; 任何其他 list 都是 True\n",
    "# 空 tuple () 為 False; 任何 tuple 為 True\n",
    "# 空字典 {} 為 False; 任何其他字典都是 True\n",
    "# 特殊的 None 永遠屬於 False\n",
    "\n",
    "# < 、 <= 、 > 、 >= 比較算符\n",
    "#  == 、 !=\n",
    "# in 、 not in 測試序列\n",
    "\n",
    "x = 1\n",
    "if 0 < x and x < 10:\n",
    "    print(x)\n",
    "if 0 < x < 10:\n",
    "    print(x)\n",
    "\n",
    "print([2] and [3, 4]) # 最後一個物件\n",
    "print([] and [5]) # and 第一個 False\n",
    "print([2] or [3, 4]) # or 第一個 true\n",
    "print([] or [5]) # or 第一個 true"
   ]
  },
  {
   "cell_type": "code",
   "execution_count": 87,
   "metadata": {},
   "outputs": [
    {
     "output_type": "stream",
     "name": "stdout",
     "text": "0\n"
    }
   ],
   "source": [
    "# Short-circuit Evaluation 短路求值\n",
    "\n",
    "x = []\n",
    "if x and myfunc():\n",
    "    pass\n",
    "\n",
    "# and 找到第一個 False 就停止，x 是空 list 左邊 False，右邊不會執行\n",
    "# 若 x 不是空 list，右邊執行\n",
    "\n",
    "y = 0\n",
    "y and 1/x # 利用短路求值，避免錯誤\n",
    "print(y)"
   ]
  },
  {
   "cell_type": "code",
   "execution_count": 90,
   "metadata": {},
   "outputs": [
    {
     "output_type": "stream",
     "name": "stdout",
     "text": "True\nFalse\nTrue\n"
    }
   ],
   "source": [
    "# ==、!=\n",
    "x = [0]\n",
    "y = [x, 1]\n",
    "print(x is y[0]) # 參照同一物件\n",
    "x = [0] # 重新賦值了\n",
    "print(x is y[0]) # 不同物件，雖然值一樣 is 看物件相不相同\n",
    "print(x == y[0]) # == 看值相不相同"
   ]
  },
  {
   "cell_type": "code",
   "execution_count": 94,
   "metadata": {},
   "outputs": [
    {
     "output_type": "stream",
     "name": "stdout",
     "text": "File has 4 lines, 30 words, 186 characters\n"
    }
   ],
   "source": [
    "infile = open('word_count.txt')\n",
    "lines = infile.read().split(\"\\n\")\n",
    "line_count = len(lines)\n",
    "word_count = 0\n",
    "char_count = 0\n",
    "for line in lines:\n",
    "    words = line.split()\n",
    "    word_count += len(words)\n",
    "    char_count += len(line)\n",
    "print(\"File has {0} lines, {1} words, {2} characters\".format(line_count, word_count, char_count))\n"
   ]
  }
 ],
 "metadata": {
  "language_info": {
   "codemirror_mode": {
    "name": "ipython",
    "version": 3
   },
   "file_extension": ".py",
   "mimetype": "text/x-python",
   "name": "python",
   "nbconvert_exporter": "python",
   "pygments_lexer": "ipython3",
   "version": "3.7.3-final"
  },
  "orig_nbformat": 2,
  "kernelspec": {
   "name": "python3",
   "display_name": "Python 3"
  }
 },
 "nbformat": 4,
 "nbformat_minor": 2
}