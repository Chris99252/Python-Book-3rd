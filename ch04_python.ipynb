{
 "nbformat": 4,
 "nbformat_minor": 2,
 "metadata": {
  "language_info": {
   "name": "python",
   "codemirror_mode": {
    "name": "ipython",
    "version": 3
   },
   "version": "3.7.3-final"
  },
  "orig_nbformat": 2,
  "file_extension": ".py",
  "mimetype": "text/x-python",
  "name": "python",
  "npconvert_exporter": "python",
  "pygments_lexer": "ipython3",
  "version": 3,
  "kernelspec": {
   "name": "python3",
   "display_name": "Python 3"
  }
 },
 "cells": [
  {
   "cell_type": "code",
   "execution_count": 1,
   "metadata": {},
   "outputs": [
    {
     "output_type": "stream",
     "name": "stdout",
     "text": "9x8x7x6x5x4x3x2x1 = 362880\n"
    }
   ],
   "source": [
    "# 一行就是一個敘述\n",
    "\n",
    "n = 9\n",
    "r = 1\n",
    "while n > 0:\n",
    "    r = r * n\n",
    "    n = n - 1\n",
    "print(\"9x8x7x6x5x4x3x2x1 =\", r)\n",
    ""
   ]
  },
  {
   "cell_type": "code",
   "execution_count": 2,
   "metadata": {},
   "outputs": [
    {
     "output_type": "stream",
     "name": "stdout",
     "text": "[1, 5, 3] [1, 5, 3] [1, 5, 3]\n"
    }
   ],
   "source": [
    "# 官方建議使用4個空格來縮排\n",
    "\n",
    "# 【#】符號後面的內容都是註解\n",
    "\n",
    "# 變數為參照(reference)到某個物件的標籤\n",
    "\n",
    "a = [1, 2, 3]\n",
    "b = a\n",
    "c = a\n",
    "b[1] = 5\n",
    "print(a, b, c)"
   ]
  },
  {
   "cell_type": "code",
   "execution_count": 3,
   "metadata": {},
   "outputs": [
    {
     "output_type": "stream",
     "name": "stdout",
     "text": "1.5 1 -1 5.5 4.0\n"
    }
   ],
   "source": [
    "# 運算式\n",
    "\n",
    "a = 3 / 2 # 1.5 一般除法浮點數\n",
    "b = 3 // 2 # 1 小於商數的最大整數\n",
    "c = -1 // 2 # -1 小於商數的最大整數\n",
    "d = 3 + 5 / 2 # 5.5 依照四則運算\n",
    "e = (3 + 5) / 2 # 4 括號\n",
    "print(a, b, c, d, e)"
   ]
  },
  {
   "cell_type": "code",
   "execution_count": 4,
   "metadata": {},
   "outputs": [
    {
     "output_type": "stream",
     "name": "stdout",
     "text": "Hello, World\nHello, World\n"
    }
   ],
   "source": [
    "# 字串 \"\" or '' 都可以\n",
    "\n",
    "x = 'Hello, World'\n",
    "y = \"Hello, World\"\n",
    "print(x)\n",
    "print(y)\n",
    ""
   ]
  },
  {
   "cell_type": "code",
   "execution_count": 5,
   "metadata": {},
   "outputs": [
    {
     "output_type": "stream",
     "name": "stdout",
     "text": "這個字串的開頭是一個\"tab\"字元\n這個字串包含一個(\\)字元\n"
    }
   ],
   "source": [
    "# 反斜線可用於轉義字元\n",
    "\n",
    "x = \"\\t這個字串的開頭是一個\\\"tab\\\"字元\"\n",
    "y = \"這個字串包含一個(\\\\)字元\"\n",
    "print(x)\n",
    "print(y)"
   ]
  },
  {
   "cell_type": "code",
   "execution_count": null,
   "metadata": {},
   "outputs": [],
   "source": []
  }
 ]
}